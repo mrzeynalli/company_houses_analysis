{
 "cells": [
  {
   "cell_type": "code",
   "execution_count": 1,
   "id": "6210e2b8",
   "metadata": {},
   "outputs": [
    {
     "data": {
      "text/html": [
       "<style>.container { width:100% !important; }</style>"
      ],
      "text/plain": [
       "<IPython.core.display.HTML object>"
      ]
     },
     "metadata": {},
     "output_type": "display_data"
    }
   ],
   "source": [
    "# experimental: you can run this cell to see your code full-width\n",
    "\n",
    "from IPython.display import display, HTML\n",
    "display(HTML(\"<style>.container { width:100% !important; }</style>\"))"
   ]
  },
  {
   "attachments": {},
   "cell_type": "markdown",
   "id": "cf72289e",
   "metadata": {},
   "source": [
    "# Final Individual Assignment: \n",
    "\n",
    "\n",
    "## Answer 2 Business Questions using Companies House API\n",
    "\n",
    "This assignment follows exactly the same format as all of your other assignments for this course.\n",
    "\n",
    "**As in all the other assignments you are asked to:**\n",
    "\n",
    "- look at a dataset using python and identify a business question\n",
    "- write a mini-report that answers your business question \n",
    "- accompany your report with a visualisation (table, graph, etc)"
   ]
  },
  {
   "attachments": {},
   "cell_type": "markdown",
   "id": "2646ae98",
   "metadata": {},
   "source": [
    "**What is different from previous assignments:**\n",
    "\n",
    "- this project is **individual**, you are not working in pairs\n",
    "- you are given a specific dataset (Companies House API)\n",
    "- you are asked to answer **TWO DIFFERENT QUESTIONS**. Each question will have its own code, report and visualisation\n",
    "- you need to identify questions by yourself. Ask about something that can be answered with this data. Also attempt to ask something that can be useful in a business context.\n",
    "- try to keep each of the 2 questions quite different from each other (eg. do not make them reuse all of the same code or identical visualisation)\n",
    "- all libraries and visualisation methods are allowed\n",
    "- your report does NOT need to use any complicated statistical or programming techniques. Rather try to look into what is available in the data and find something interestin in it\n",
    "- if you keep running out of your API allowance/quote (because you are making a lot of API calls), consider saving your API results in a file, and then getting more API results, and adding them to the same file."
   ]
  },
  {
   "attachments": {},
   "cell_type": "markdown",
   "id": "cbf7762e",
   "metadata": {},
   "source": [
    "### Example Questions: You can use these, change them or design your own\n",
    "\n",
    "**What makes a company more fair in terms of gender equality?** Look at the data about ownership/voting  - does this data behave differently for people of different genders, ages and nationalities? hint: We can sometimes deduce a person's gender from their title (Mr, Mrs) but not always (Dr); also company house offers a limited number of options and not everyone can find their preferred title/pronoun there. You could eg. compare companies with the word X and word Y in their name, or look at some other variable to see which companies are more diverse than others.\n",
    "\n",
    "**When's a good time to start a tourism business?** Looking at tourism-related companies, do you see patterns in years/months of creation and cessation (closing)? Are companies created at some times more likely to survive for longer? note: to get tourism-related companies, first fetch company details for many tourism words ['travel','trip','cruise',...] and then check their Standard Industrial Classification (SIC) codes.\n",
    "\n",
    "**What is the best place in UK to set up a fintech company?** Did it change over the years? Look at locations of companies in a sector, and where they are based. Does the count of companies, or the lengths of time they survive, change over time? Does it change differently in different locations? note: to get industry's companies you could use the method described above (using many words and filtering SIC codes)\n",
    "\n",
    "Note: these really are just examples. Feel free to look at anything that is of interest to you, and can be answered with this data"
   ]
  },
  {
   "attachments": {},
   "cell_type": "markdown",
   "id": "4f45b923",
   "metadata": {},
   "source": [
    "## Deliverables for each Question: Code, Mini-report, Visualisation\n",
    "\n",
    "### Code\n",
    "\n",
    "In your notebook please include all the **code** that you used to arrive at the conclusion. \n",
    "\n",
    "- It is absolutely ok to re-use your own code from one question in another question\n",
    "- But please write the most important parts of code for each Question that help you to answer the question \n",
    "\n",
    "\n",
    "### Mini-report\n",
    "\n",
    "At the end of your notebook, you should provide:\n",
    "\n",
    "- a markdown (text) cell with your mini-report (250 words +/- 10%). For reference, 'Marking criteria' section below has around 220 words)\n",
    "\n",
    "### Visualisation\n",
    "\n",
    "Use the data you extracted to further your argument with visualisations:\n",
    "\n",
    "- individual cells that will generate MAX TWO GRAPHS OR TABLES for EACH of your mini-reports (you are allowed to combine a number of graphs, if they are combined into one unit and make sense, eg. combining 3 bar charts side by side, or overlapping a line chart with a bar chart)."
   ]
  },
  {
   "attachments": {},
   "cell_type": "markdown",
   "id": "06a0602c",
   "metadata": {},
   "source": [
    "Marking Criteria for each Question (same as in previous assignments)\n",
    "\n",
    "**Business Question and Answer:**\n",
    "\n",
    "Did you manage to find a question that can be answered with given data? As an analyst, you will often have to dive into available data and identify how it can help the business, or solve a problem, without first knowing what the problem is. Also, can you formulate a clear answer to the question you created?\n",
    " \n",
    "- 50% - C - GOOD - question and answer are clear, well defined and connect with the dataset\n",
    "- 60% - B - VERY GOOD - argument is clearly positioned in a business context, and attempts to provide value/insight\n",
    "- 70% - A - EXCELLENT - insights are novel, actionable and the writeup is of publishable quality.\n",
    "\n",
    "**Using the Data:**\n",
    "\n",
    "How well did you use the data to answer your question? Your answer should be supported by what you found in the data. Briefly describe why this was the correct data, and the correct analysis to perform on it.\n",
    " \n",
    "- 50% - C - GOOD - data selected is appropriate for the task, analysis is clear, the source is mentioned\n",
    "- 60% - B - VERY GOOD - data analysis section advances the argument, makes a clear point and is easy to read and understand\n",
    "- 70% - A - EXCELLENT - analysis is insightful, using multiple parts of the data set in a creative way\n",
    "\n",
    "**Visualisation:**\n",
    "\n",
    "Can you aid your argument/answer with visual clues? A graph can say a thousand words, but it is also easy to make one that is confusing, or misleading. Use simple (or highly customised) graphs to make your argument clearer.\n",
    " \n",
    "- 50% - C - GOOD - graph is communicative, appropriate and similar complexity as in the notes\n",
    "- 60% - B - VERY GOOD - graph is customised and combines a number of styles and types of visualisation\n",
    "- 70% - A - EXCELLENT - graph is using clear visual language to make a point, adds to the argument, and is of publishable quality\n",
    "\n",
    "**Code Quality:**\n",
    "\n",
    "Is your code clean, readable and DRY (Don't repeat yourself)? Are you using good readable variable names? Did you clean up your code and does it not include any old/unused parts?\n",
    " \n",
    "- 50% - C - GOOD - code has meaningful variable names, no needlessly repeated code\n",
    "- 60% - B - VERY GOOD - also signposted, reasonably commented and cleaned up\n",
    "- 70% - A - EXCELLENT - also code has a logical flow, consistency of names and granularity/size\n",
    "\n",
    "**Code Structure:**\n",
    "\n",
    "Is your code well structured and broken down? Just like good writing has sentences, paragraphs and chapters, good code should be split into sections. Break down your code into cells and functions. Use meaningful signposts (eg. comments, function names) to guide the reader through your code.\n",
    " \n",
    "- 50% - C - GOOD - code is broken down into cells, by the code's purpose\n",
    "- 60% - B - VERY GOOD - code is broken down by cell and also separated and readable. Attempts on reusing code are made\n",
    "- 70% - A - EXCELLENT - code is split into functions and/or objects and can be easily reused"
   ]
  },
  {
   "attachments": {},
   "cell_type": "markdown",
   "id": "29ee9850",
   "metadata": {},
   "source": [
    "# API we will use: Companies House\n",
    "\n",
    "Companies house is the official public  register of all companies in the UK. You can search for companiers, peope etc. You can also get basic information about many companies, or request detailed information about one company. You will need to create an account - probably best if you use your university email address. You can find more information on companies house website and https://developer.company-information.service.gov.uk/get-started. "
   ]
  },
  {
   "attachments": {},
   "cell_type": "markdown",
   "id": "548d60ec",
   "metadata": {},
   "source": [
    "**All possible API calls you can make:**\n",
    "\n",
    "There is a number of calls you can make from the API. Find all the details (and info about the format of answers) here: https://developer-specs.company-information.service.gov.uk/companies-house-public-data-api/reference"
   ]
  },
  {
   "attachments": {},
   "cell_type": "markdown",
   "id": "57cc3a7c",
   "metadata": {},
   "source": [
    "**Extra notes:  Standard Industrial Classification (SIC)**\n",
    "\n",
    "company infomation includes 'industry type' as a SIC code. List of codes is here (you can load the file and get values from there) https://assets.publishing.service.gov.uk/government/uploads/system/uploads/attachment_data/file/527619/SIC07_CH_condensed_list_en.csv\n",
    "\n",
    "for example:\n",
    "\n",
    "- 72200 Research and experimental development on social sciences and humanities\n",
    "- 73110 Advertising agencies\n",
    "- 73120 Media representation services\n",
    "- 73200 Market research and public opinion polling\n",
    "- 74100 specialised design activities\n",
    "- 74201 Portrait photographic activities\n",
    "- 74202 Other specialist photography\n",
    "- 74203 Film processing"
   ]
  },
  {
   "attachments": {},
   "cell_type": "markdown",
   "id": "a257e29e",
   "metadata": {},
   "source": [
    "# If you do not have one yet: creating a developer account and API  key \n",
    "\n",
    "You likely already have an account and key from your previous assignments - it's probably easiest and best if you reuse that account and key."
   ]
  },
  {
   "attachments": {},
   "cell_type": "markdown",
   "id": "4111af6e",
   "metadata": {},
   "source": [
    "To create a new one:\n",
    "\n",
    "- Go to 'register a user account' link https://identity.company-information.service.gov.uk/signin, enter your **school email** and then click the link you received by email. \n",
    "- setup a password\n",
    "- login to the page\n",
    "- go to New Application on top (https://developer.company-information.service.gov.uk/manage-applications/add)\n",
    "- ented a name and short description for your API project (just say it's a univeristy project) and choose **'Live' where you're asked 'environment for your application'**. Leave optional fields blank.\n",
    "- go to 'View all applications' (https://developer.company-information.service.gov.uk/manage-applications)\n",
    "- click on the name of your application, and then 'Create new key'\n",
    "- Select these options:\n",
    "-    Key name and description: here write anything, like 'python project'\n",
    "-    Select the type of API client key you want to create: **REST**\n",
    "- leave other options empty, and click 'Create Key'\n",
    "- When done, scroll down and copy-paste your key to this notebook. key will look a bit like this: \te3123ad12-fd44-4aad-9389-f7dccccc6788\n",
    "\n",
    "Once you are set up:\n",
    "\n",
    "- all the possible requests can be found here: https://developer-specs.company-information.service.gov.uk/companies-house-public-data-api/reference\n",
    "- by the way: you are allowed to ask 600 requests within each five-minute period, after that period, you get another 600. And so on. If you use up all the 600 questions, API will make you wait for a few seconds/minutes."
   ]
  },
  {
   "attachments": {},
   "cell_type": "markdown",
   "id": "7d4daaac",
   "metadata": {},
   "source": [
    "# Some functions to get you started: \n",
    "\n"
   ]
  },
  {
   "cell_type": "code",
   "execution_count": 1,
   "id": "8ad22cd8",
   "metadata": {},
   "outputs": [],
   "source": [
    "# Import necessary libraries for this project\n",
    "import pandas as pd\n",
    "import numpy as np\n",
    "import requests as rq\n",
    "import json\n",
    "import math\n",
    "import time\n",
    "import datetime as dt\n",
    "import warnings\n",
    "import matplotlib.pyplot as plt\n",
    "import seaborn as sns\n",
    "warnings.filterwarnings('ignore')"
   ]
  },
  {
   "cell_type": "code",
   "execution_count": 2,
   "id": "b24fd15d",
   "metadata": {},
   "outputs": [],
   "source": [
    "# Create a class that calls the API\n",
    "class api_caller:\n",
    "    \n",
    "    # Root url for Companies House database\n",
    "    root_url = 'https://api.companieshouse.gov.uk/'\n",
    "    \n",
    "    # API key\n",
    "    key = '151b89aa-44c2-4cf6-8002-53b2b46b0e7a'\n",
    "    \n",
    "    # Create a function that returns the dataframe of the companies found for the selected url\n",
    "    def return_dataframe(self,url_extention):\n",
    "        \n",
    "        # Create a url variable that combines the selected url to root url\n",
    "        url = self.root_url + url_extention\n",
    "        \n",
    "        # Request a response from the url with the API key\n",
    "        query_result = rq.get(url, auth=(self.key,''))\n",
    "        \n",
    "        # Check if the response of the request is successfull (which is denoted with code 200)\n",
    "        if query_result.status_code == 200:\n",
    "            \n",
    "            # Create a json file by decoding the response\n",
    "            json_file = json.JSONDecoder().decode(query_result.text)\n",
    "            \n",
    "            # Create a variable that stores only items from the json file\n",
    "            items_file = json_file['items']\n",
    "            \n",
    "            # Create a variable that stores the keys from the items file\n",
    "            keys = items_file[0].keys()\n",
    "\n",
    "            # Create the dataframe with companies as data and keys as columns\n",
    "            companies_df = pd.DataFrame(items_file,columns = keys)\n",
    "            \n",
    "            # Return the created dataframe\n",
    "            return companies_df\n",
    "        \n",
    "        else: # if the response code is not 200, return none (non-200 code, either 400 or 405, means either the request is not\n",
    "              # correctly asked or there is not such a url. This is helpful on tackling the error when my upcoming return_companies\n",
    "              # function goes into further pages to quest companies where there is no longer any companies listed)\n",
    "            return None"
   ]
  },
  {
   "cell_type": "code",
   "execution_count": 14,
   "id": "fc5c6739",
   "metadata": {},
   "outputs": [],
   "source": [
    "# Create a link to SIC Codes list file uploaded to GitHub\n",
    "url_sic_codes = \"/Users/mrzeynalli/Documents/Datasets/sic_codes_list.csv\"\n",
    "\n",
    "# Create a dataframe storing SIC Codes of companies\n",
    "sic_codes_df = pd.read_csv(url_sic_codes)"
   ]
  },
  {
   "cell_type": "code",
   "execution_count": 15,
   "id": "fc84e380",
   "metadata": {},
   "outputs": [],
   "source": [
    "# Create a function that returns the companies based on one single SIC code \n",
    "# and the number of expected companies\n",
    "def return_companies_on_sic_code(sic_code, number_of_companies):\n",
    "    \n",
    "    # Round up number of pages\n",
    "    number_of_pages = math.ceil(number_of_companies / 20)\n",
    "    \n",
    "    # Create an empty dataframe as a general dataframe to store further companies\n",
    "    companies_data = pd.DataFrame()\n",
    "    \n",
    "    # Iterate through the pages\n",
    "    for page_index in range(0, number_of_pages):\n",
    "        \n",
    "        # Create the url extention that checks for sic_code based on 20 companies per page and page starting \n",
    "        # index of the last companies in the previous page\n",
    "        url = f\"advanced-search/companies?sic_codes={sic_code}&items_per_page=20&start_index={page_index*20}\"\n",
    "        \n",
    "        # Store the companies collected in one particular page\n",
    "        page_data = api_caller().return_dataframe(url)\n",
    "        \n",
    "        # Add the one-page collected companies dataframe to the general dataframe\n",
    "        companies_data = pd.concat((companies_data,page_data),axis=0)\n",
    "        \n",
    "        # Sleeps for 0.4 seconds not to crash into time errors\n",
    "        time.sleep(0.4)\n",
    "    \n",
    "    # Return the general dataframe\n",
    "    return companies_data.reset_index(drop=True)\n",
    "\n",
    "\n",
    "###########################################################################################################################\n",
    "\n",
    "\n",
    "# Create a function that returns the companies based on multiple single SIC codes \n",
    "# and the number of expected companies\n",
    "def return_companies_on_multiple_sic_codes(sic_codes_list, number_of_companies):\n",
    "    \n",
    "    # Create an empty dataframe as a general dataframe to store further companies\n",
    "    companies_data = pd.DataFrame()\n",
    "    \n",
    "    # Iterate through the input sic codes\n",
    "    for sic_code in sic_codes_list:\n",
    "        \n",
    "        # Use the previously created one-sic-code-based companies returning function to return multiple-pages companies\n",
    "        # each sic code\n",
    "        companies_data_for_sic_code = return_companies_on_sic_code(sic_code, number_of_companies)\n",
    "        \n",
    "        # Add the companies for one sic code to general dataframe\n",
    "        companies_data = pd.concat((companies_data,companies_data_for_sic_code),axis=0)\n",
    "        \n",
    "        # Sleeps for 0.4 seconds not to crash into time errors\n",
    "        time.sleep(0.4)\n",
    "    \n",
    "    # Return the general dataframe\n",
    "    return companies_data.reset_index(drop=True)"
   ]
  },
  {
   "cell_type": "code",
   "execution_count": 16,
   "id": "a06d9d0e",
   "metadata": {},
   "outputs": [],
   "source": [
    "# Create a function that returns the list of SIC Codes based on the selected keywords for industry names \n",
    "def words_dependent_sic_codes(search_words_list):\n",
    "    \n",
    "    # Create an empty list to store further SIC Codes\n",
    "    sic_codes = []\n",
    "    \n",
    "    # Iterate throught all industry names in SIC Codes dataframe\n",
    "    for industry in sic_codes_df['Description']:\n",
    "        \n",
    "        # Iterate through each search_word and removable_word\n",
    "        for search_word in search_words_list:\n",
    "            \n",
    "            # Check if the search word is in industry name\n",
    "            if search_word in industry.lower():\n",
    "\n",
    "                # Create a dataframe condition to call specific industry\n",
    "                condition = (sic_codes_df['Description'] == industry)\n",
    "\n",
    "                # Store the SIC Code of that specific industry\n",
    "                sic_code = sic_codes_df[condition]['SIC Code'].values\n",
    "\n",
    "                # Convert the stores SIC Code into integer\n",
    "                sic_code_int = int(sic_code)\n",
    "\n",
    "                # Add the integer SIC Code into SIC Codes list\n",
    "                sic_codes.append(sic_code_int)\n",
    "                \n",
    "    # Remove the duplicated SIC Codes by converting list into set and back to list            \n",
    "    sic_codes = list(set(sic_codes))\n",
    "    \n",
    "    # Return the SIC Codes list\n",
    "    return sic_codes"
   ]
  },
  {
   "cell_type": "code",
   "execution_count": 17,
   "id": "519efbdf",
   "metadata": {},
   "outputs": [],
   "source": [
    "# Create a class that filteres the dataframe\n",
    "class filtering():\n",
    "    \n",
    "    # Ask for dataframe as an initializer\n",
    "    def __init__(self,dataframe):\n",
    "        \n",
    "        self.dataframe = dataframe\n",
    "    \n",
    "    # Define a class function that filters the datarame\n",
    "    def filter_by(self, filtered_value, column):\n",
    "        \n",
    "        # Set a condition of filter\n",
    "        condition  = (self.dataframe[column] == filtered_value)\n",
    "        \n",
    "        # Create a filtered dataframe\n",
    "        filtered_df = self.dataframe[condition]\n",
    "        \n",
    "        # Return the filtered dataframe\n",
    "        return filtered_df\n",
    "    \n",
    "    # Define a class function that unfilters the datarame\n",
    "    def unfilter_by(self, filtered_value, column):\n",
    "        \n",
    "        # Set a condition of filter\n",
    "        condition  = (self.dataframe[column] == filtered_value)\n",
    "        \n",
    "        # Get the indices of condition values\n",
    "        indices = self.dataframe[condition].index\n",
    "        \n",
    "        # Drop thee candidate values\n",
    "        unfiltered_df = self.dataframe.drop(indices, axis=0)\n",
    "        \n",
    "        # Return the unfiltered dataframe\n",
    "        return unfiltered_df"
   ]
  },
  {
   "attachments": {},
   "cell_type": "markdown",
   "id": "4180115e",
   "metadata": {},
   "source": [
    "# Business Question 1: Which cities in UK has the highest potential for technology-related activities besides London?"
   ]
  },
  {
   "attachments": {},
   "cell_type": "markdown",
   "id": "18915b62",
   "metadata": {},
   "source": [
    "### Business Question 1: Code:"
   ]
  },
  {
   "cell_type": "code",
   "execution_count": 18,
   "id": "7c9a234e",
   "metadata": {
    "deletable": false,
    "nbgrader": {
     "cell_type": "code",
     "checksum": "9a6e3a6a854c5207e8fcb66335471a5d",
     "grade": true,
     "grade_id": "cell-b5b5ea7c8326b1d9",
     "locked": false,
     "points": 100,
     "schema_version": 3,
     "solution": true,
     "task": false
    }
   },
   "outputs": [],
   "source": [
    "# Create a list of words to look through in industry name\n",
    "tech_words = ['technology','engineering','software','hardware']\n",
    "\n",
    "# Create a variable that stores the selected SIC Codes\n",
    "tech_sic_codes = words_dependent_sic_codes(tech_words)"
   ]
  },
  {
   "cell_type": "code",
   "execution_count": 19,
   "id": "17d4319c",
   "metadata": {},
   "outputs": [],
   "source": [
    "# Call the data from Companies Houses: requesting 1000 companies per SIC Code\n",
    "tech_companies_df = return_companies_on_multiple_sic_codes(tech_sic_codes, 100)"
   ]
  },
  {
   "cell_type": "code",
   "execution_count": 10,
   "id": "f9308860",
   "metadata": {},
   "outputs": [],
   "source": [
    "# Drop duplicates for columns 'company_name' which is a unique identifier for the companies\n",
    "tech_companies_df.drop_duplicates(subset=['company_name'], inplace=True)"
   ]
  },
  {
   "cell_type": "code",
   "execution_count": 11,
   "id": "473a9efe",
   "metadata": {},
   "outputs": [],
   "source": [
    "# Create a list of columns that are not suitable for analysis\n",
    "unnecessary_columns = ['kind','links']\n",
    "\n",
    "# Drop the candidate columns\n",
    "tech_companies_df.drop(columns=unnecessary_columns, inplace=True)"
   ]
  },
  {
   "cell_type": "code",
   "execution_count": 12,
   "id": "316ecf83",
   "metadata": {},
   "outputs": [],
   "source": [
    "# Create a 'locality' and 'postal_code' columns out of 'registered_office_address', which is a dictionary in a dataframe\n",
    "columns_to_be_splitted = ['locality','postal_code']\n",
    "\n",
    "# Define a function that splits the given column\n",
    "def cell_dict_splitter(key, column, dataframe):\n",
    "\n",
    "    dataframe[key] = dataframe[column].str[key]\n",
    "\n",
    "# Iterate through the candidate columnss\n",
    "for key in columns_to_be_splitted:\n",
    "    \n",
    "    # Split the candidate columns\n",
    "    cell_dict_splitter(key,'registered_office_address',tech_companies_df)\n",
    "    \n",
    "# Drop 'registered_office_address' column given it has already been processed\n",
    "tech_companies_df.drop(columns=['registered_office_address'], inplace=True)"
   ]
  },
  {
   "cell_type": "code",
   "execution_count": 13,
   "id": "c231c260",
   "metadata": {},
   "outputs": [],
   "source": [
    "# Drop null values from 'locality' columns given that some companies do not have registered locality\n",
    "tech_companies_df.dropna(subset=['locality'], inplace=True)"
   ]
  },
  {
   "cell_type": "code",
   "execution_count": 14,
   "id": "b82927d6",
   "metadata": {},
   "outputs": [],
   "source": [
    "# Filter the companies which are not located in London: cities they are located are going to be called 'Non-Capital cities'\n",
    "non_london_tech_companies_df = filtering(tech_companies_df).unfilter_by('London','locality')"
   ]
  },
  {
   "cell_type": "code",
   "execution_count": 15,
   "id": "fe7c8884",
   "metadata": {},
   "outputs": [],
   "source": [
    "# Group the companies by their locality and count the frequency\n",
    "tech_company_counts = non_london_tech_companies_df.groupby('locality').count()['company_name'].sort_values(ascending=False)"
   ]
  },
  {
   "cell_type": "code",
   "execution_count": 16,
   "id": "8ca83560",
   "metadata": {},
   "outputs": [],
   "source": [
    "# Create a list of cities who are in TOP10 regarding the count of tech companies\n",
    "top_10_cities = tech_company_counts[:10].index\n",
    "\n",
    "# Create a variable that stores the counts of the companies for the selected TOP10 cities\n",
    "top_10_values = tech_company_counts[:10]\n",
    "\n",
    "# Create a crosstab that groups the data by their locality and company status: active, dissolved, administration, and liqiudation \n",
    "locality_status_crosstab = pd.crosstab(non_london_tech_companies_df.locality,non_london_tech_companies_df.company_status).sort_values(by='dissolved',ascending=False)\n",
    "\n",
    "# Define a function that returns the counts of companies for TOP10 cities by their statusa\n",
    "def return_values_by_status(status):\n",
    "    \n",
    "    # Create a list to store further values\n",
    "    values = []\n",
    "    \n",
    "    # Iterate through city in top 10 cities\n",
    "    for city in top_10_cities:\n",
    "        \n",
    "        # Create a variable that stores value\n",
    "        value = locality_status_crosstab[status][city]\n",
    "        \n",
    "        # Add value to the list\n",
    "        values.append(value)\n",
    "    \n",
    "    # Return values\n",
    "    return values\n",
    "\n",
    "# Gather the values for active companies\n",
    "active_values = np.array(return_values_by_status('active'))\n",
    "\n",
    "# Gather the values for dissolved companies\n",
    "dissolved_values = np.array(return_values_by_status('dissolved'))\n",
    "\n",
    "# Gather the values for administration companies\n",
    "administration_values = np.array(return_values_by_status('administration'))\n",
    "\n",
    "# Gather the values for liquidation companies\n",
    "liquidation_values = np.array(return_values_by_status('liquidation'))"
   ]
  },
  {
   "attachments": {},
   "cell_type": "markdown",
   "id": "027592ea",
   "metadata": {},
   "source": [
    "### Business Question 1: Mini-report and visualisation:"
   ]
  },
  {
   "attachments": {},
   "cell_type": "markdown",
   "id": "bd85aac5",
   "metadata": {},
   "source": [
    "The UK is one of the technologically leading countries in the globe, with recent tech advancements and adaptations. However, most of the operations and advancements are heavily concentrated in its capital city, London. Though this makes London full of growth opportunities for technology-driven people, it also comes up with its harsh competition. This analysis aims to analyze the technological opportunities outside of London for, especially, conservative people who desire to initiate a tech firm but do not want to be in constant tough competition. Additionally, this analysis may be helpful for people who seek technological employment in a less competitive environment.\n",
    "\n",
    "According to the results of the analysis, Manchester, Birmingham, and Bristol are the main non-capital cities with tech firms. They, respectively, capture 19.1%, 14.0%, and 10.6% of the total distribution of tech companies for non-capital cities. They are followed by Cambridge (10.6%), Nottingham (8.9%), and Cardiff (8.0%). Leeds, Coventry, Reading, and Sheffield are the other cities that made it to TOP10 (Figure 1).\n",
    "\n",
    "Regarding active tech companies, Birmingham leads the way with above 120 companies, passing Manchester and Cambridge, both of which have nearly 100 active tech firms. While not huge variations are experienced with the rest of the cities, Coventry is found to have the lowest number of active firms (Figure 2).\n",
    "\n",
    "Overall, Manchester, Birmingham, Bristol, and Cambridge are the main recommended cities for people who quest a non-aggressive tech firm launch or less-competitive tech job.\n",
    "\n",
    "WORD COUNT: 238"
   ]
  },
  {
   "cell_type": "code",
   "execution_count": 17,
   "id": "f2922d94",
   "metadata": {},
   "outputs": [
    {
     "data": {
      "image/png": "[encoded data removed]",
      "text/plain": [
       "<Figure size 720x432 with 1 Axes>"
      ]
     },
     "metadata": {},
     "output_type": "display_data"
    }
   ],
   "source": [
    "# Create a figure and ax plots\n",
    "fig, ax = plt.subplots(figsize = (10,6))\n",
    "\n",
    "# Give a title to the figure\n",
    "plt.title(\"Figure 1: Proportion of Tech Companies in TOP10 Non-Capital Cities of UK\\n\", fontsize=14)\n",
    "\n",
    "# Create a pie chart for TOP10 cities given the proportion of tech companies they have\n",
    "ax.pie(top_10_values, autopct='%1.1f%%',pctdistance =1.15, \n",
    "       textprops={'fontsize': 10}, \n",
    "       wedgeprops = {'linewidth' : 3, 'edgecolor' : 'white'})\n",
    "\n",
    "# Create an inner circle to convert the pie chart to donut chart\n",
    "fig.gca().add_artist(plt.Circle((0, 0), 0.72, fc='white'))\n",
    "\n",
    "# Put the legend on the figure\n",
    "ax.legend(bbox_to_anchor=(2, 0.9),fontsize=12, labels=top_10_cities)\n",
    "\n",
    "# Display the figure\n",
    "fig.show()"
   ]
  },
  {
   "cell_type": "code",
   "execution_count": 18,
   "id": "3c0cf862",
   "metadata": {},
   "outputs": [
    {
     "data": {
      "image/png": "[encoded data removed]",
      "text/plain": [
       "<Figure size 720x432 with 1 Axes>"
      ]
     },
     "metadata": {
      "needs_background": "light"
     },
     "output_type": "display_data"
    }
   ],
   "source": [
    "# Define colors for the bars\n",
    "colors = ['darkturquoise',\n",
    "'slategrey',\n",
    "'silver',\n",
    "'lightgrey']\n",
    "\n",
    "# Create a figure and ax plots\n",
    "fig, ax = plt.subplots(figsize = (10,6))\n",
    "\n",
    "# Plot the stacked bar for active companies counts\n",
    "plt.bar(top_10_cities, active_values, color=colors[0])\n",
    "\n",
    "# Plot the stacked bar for dissolved companies counts\n",
    "plt.bar(top_10_cities, dissolved_values, bottom=active_values, color=colors[1])\n",
    "\n",
    "# Plot the stacked bar for administration companies counts\n",
    "plt.bar(top_10_cities, administration_values, bottom=active_values+dissolved_values, color=colors[2])\n",
    "\n",
    "# Plot the stacked bar for liquidation companies counts\n",
    "plt.bar(top_10_cities, liquidation_values, bottom=active_values+dissolved_values+administration_values, color=colors[3])\n",
    "\n",
    "# Rotate the x labels on 90 degrees\n",
    "plt.xticks(rotation=90)\n",
    "\n",
    "# Label the x axis\n",
    "plt.xlabel(\"City\")\n",
    "\n",
    "# Label the y axis\n",
    "plt.ylabel(\"Quantity\")\n",
    "\n",
    "# Label the legend items\n",
    "plt.legend([\"Active companies\", \"Dissolved companies\",\"Administration companies\",\"Liquidation companies\"])\n",
    "\n",
    "# Title the figure\n",
    "plt.title(\"Figure 2: Tech Companies in TOP 10 Non-Capital Cities of UK per Company Status\\n\", fontsize=14)\n",
    "\n",
    "# Display the chart\n",
    "plt.show()"
   ]
  },
  {
   "attachments": {},
   "cell_type": "markdown",
   "id": "6dc9e7e6",
   "metadata": {},
   "source": [
    "# Business Question 2: Seasonal variations in tobacco "
   ]
  },
  {
   "attachments": {},
   "cell_type": "markdown",
   "id": "1cc860d0",
   "metadata": {},
   "source": [
    "### Business Question 2: Code:"
   ]
  },
  {
   "cell_type": "code",
   "execution_count": 19,
   "id": "b2aad17e",
   "metadata": {
    "deletable": false,
    "nbgrader": {
     "cell_type": "code",
     "checksum": "5852b9053d1c37cb5d3d238ee64a94cf",
     "grade": true,
     "grade_id": "cell-7c8b65431ad41ec6",
     "locked": false,
     "points": 100,
     "schema_version": 3,
     "solution": true,
     "task": false
    }
   },
   "outputs": [],
   "source": [
    "# Create a list of word for 'tobacco' to look through it in industry name\n",
    "tobacco_search_word = ['tobacco']\n",
    "\n",
    "# Create a variable that stores the selected SIC Codes for tobacco\n",
    "tobacco_sic_codes = words_dependent_sic_codes(tobacco_search_word)"
   ]
  },
  {
   "cell_type": "code",
   "execution_count": 20,
   "id": "a9e48f86",
   "metadata": {},
   "outputs": [],
   "source": [
    "# Call the data from Companies Houses: requesting 1000 companies per SIC Code\n",
    "tobacco_companies_df = return_companies_on_multiple_sic_codes(tobacco_sic_codes, 1000)"
   ]
  },
  {
   "cell_type": "code",
   "execution_count": 21,
   "id": "87ae26bd",
   "metadata": {},
   "outputs": [],
   "source": [
    "# Drop duplicates for columns 'company_name' which is a unique identifier for the companies\n",
    "tobacco_companies_df.drop_duplicates(subset=['company_name'], inplace=True)"
   ]
  },
  {
   "cell_type": "code",
   "execution_count": 22,
   "id": "caa14255",
   "metadata": {},
   "outputs": [
    {
     "data": {
      "text/plain": [
       "Index(['company_name', 'company_number', 'company_status', 'company_type',\n",
       "       'kind', 'links', 'date_of_creation', 'registered_office_address',\n",
       "       'sic_codes', 'date_of_cessation', 'company_subtype'],\n",
       "      dtype='object')"
      ]
     },
     "execution_count": 22,
     "metadata": {},
     "output_type": "execute_result"
    }
   ],
   "source": [
    "# Display the columns\n",
    "tobacco_companies_df.columns"
   ]
  },
  {
   "cell_type": "code",
   "execution_count": 23,
   "id": "fcfb39d2",
   "metadata": {},
   "outputs": [],
   "source": [
    "# Create a list of columns that are not suitable for analysis\n",
    "unnecessary_columns = ['kind','links','company_subtype','registered_office_address']\n",
    "\n",
    "# Drop the candidate columns\n",
    "tobacco_companies_df.drop(columns=unnecessary_columns, inplace=True)"
   ]
  },
  {
   "cell_type": "code",
   "execution_count": 24,
   "id": "3da9f549",
   "metadata": {},
   "outputs": [],
   "source": [
    "# Define a function that splits datetime into year, month, and day\n",
    "def date_splitter(datetime_column_name,dataframe,column_name_fronter):\n",
    "    \n",
    "    # Split datetime into its parts\n",
    "    datetime_parts = dataframe[datetime_column_name].str.split(\"-\", expand = True)\n",
    "    \n",
    "    # Add year, month, and day into dataframe\n",
    "    dataframe[[column_name_fronter + \"year\", column_name_fronter + \"month\", column_name_fronter + \"day\"]] = datetime_parts\n",
    "\n",
    "# Split datetime of creation and cessation dates\n",
    "date_splitter('date_of_creation',tobacco_companies_df, 'creation_')\n",
    "date_splitter('date_of_cessation',tobacco_companies_df, 'cessation_')"
   ]
  },
  {
   "cell_type": "code",
   "execution_count": 25,
   "id": "df4b8bcd",
   "metadata": {},
   "outputs": [],
   "source": [
    "# Reset indexing of dataframe\n",
    "tobacco_companies_df.reset_index(drop=True, inplace=True)"
   ]
  },
  {
   "cell_type": "code",
   "execution_count": 26,
   "id": "376cbe89",
   "metadata": {},
   "outputs": [],
   "source": [
    "# Define a function that returns differences between two dates in either years\n",
    "def return_dates_difference(date1, date2):\n",
    "    \n",
    "    # Formulate the date format\n",
    "    date_format = '%Y-%m-%d'\n",
    "    \n",
    "    # Create seperate variables storing datetime and adjusted version of creation datetime to do math operations\n",
    "    date1 = dt.datetime.strptime(date1,date_format)\n",
    "    date2 = dt.datetime.strptime(date2,date_format)\n",
    "\n",
    "    # Calculate the difference between current date and creation date: returns the difference in days\n",
    "    difference_in_days = date1 - date2\n",
    "\n",
    "    # Convert the difference item into string and split it into parts to access days value individually\n",
    "    splitted_difference_string = str(difference_in_days).split()\n",
    "\n",
    "    # Convert the first item, which is count of days in difference, in splitted string into an integer\n",
    "    difference_in_days_interger = int(splitted_difference_string[0])\n",
    "\n",
    "    # Convert the days into years by dividing by 365 and round the value into one decimel float\n",
    "    difference_in_years_interger = round( (difference_in_days_interger/365), 1)\n",
    "       \n",
    "    # Return longevity in years\n",
    "    return difference_in_years_interger"
   ]
  },
  {
   "cell_type": "code",
   "execution_count": 27,
   "id": "cb89535e",
   "metadata": {},
   "outputs": [],
   "source": [
    "# Create a longevity column having values as 0\n",
    "tobacco_companies_df['longevity_in_years'] = 0\n",
    "\n",
    "# Calculate the longevity of each company:\n",
    "\n",
    "# Iterate through indices of dataframe\n",
    "for index in range(len(tobacco_companies_df)):\n",
    "\n",
    "        # Check if the company still operates: based on whether it has cessation date\n",
    "        if tobacco_companies_df['date_of_cessation'].loc[index] is np.nan:\n",
    "        \n",
    "            # Some companies are  so recently created that they don't have any survival record, which returns ValueError when looking for yearly difference\n",
    "            # Debug against potential ValueError\n",
    "            try:                \n",
    "                # Get the current date: dt.datetime.now() is not used becasue running the code in different timespans will bring about different current dates, \n",
    "                # thus different analysis results.To avoid inconsistency on the report, the date this coding was carried out is used as a current datetime\n",
    "                datetime_now = '2022-12-12'\n",
    "                \n",
    "                # Get the date of creation\n",
    "                datetime_creation = tobacco_companies_df['date_of_creation'].iloc[index]\n",
    "                \n",
    "                # Add the years difference value into dataframe 'longevity_in_years' column\n",
    "                tobacco_companies_df['longevity_in_years'].loc[index] = return_dates_difference(datetime_now,datetime_creation)\n",
    "                \n",
    "            # If ValueErrors occcurs, very short difference between creation date and current date is concluded\n",
    "            # Thus, it is reasonable to assign 0 longevity to these companies\n",
    "            except ValueError:\n",
    "                \n",
    "                # Assign 0 to companies with no longevity\n",
    "                tobacco_companies_df['longevity_in_years'].loc[index] = 0\n",
    "                    \n",
    "        else: # If a company has a date of cessation\n",
    "            \n",
    "            try:\n",
    "                # Get the date of cessation\n",
    "                datetime_cessation = tobacco_companies_df['date_of_cessation'].iloc[index]\n",
    "                \n",
    "                # Get the date of creation\n",
    "                datetime_creation = tobacco_companies_df['date_of_creation'].iloc[index]\n",
    "                \n",
    "                # Add the years difference value into dataframe 'longevity_in_years' column\n",
    "                tobacco_companies_df['longevity_in_years'].loc[index] = return_dates_difference(datetime_cessation,datetime_creation)\n",
    "                \n",
    "            except ValueError:\n",
    "                \n",
    "                # Assign 0 to companies with no longevity\n",
    "                tobacco_companies_df['longevity_in_years'].loc[index] = 0"
   ]
  },
  {
   "cell_type": "code",
   "execution_count": 28,
   "id": "9a972d49",
   "metadata": {},
   "outputs": [],
   "source": [
    "# Group tobacco companies dataframe by their creation month and mean score of longevity in years\n",
    "tobacco_companies_by_month_df = tobacco_companies_df.groupby('creation_month').mean(numeric_only=True)['longevity_in_years']\n",
    "\n",
    "# Group tobacco companies dataframe by their creation month by counting\n",
    "tobacco_companies_creation_count_df = tobacco_companies_df.groupby('creation_month').count()['company_name']\n",
    "\n",
    "# Group tobacco companies dataframe by their cessation month by counting\n",
    "tobacco_companies_cessation_count_df = tobacco_companies_df.groupby('cessation_month').count()['company_name']"
   ]
  },
  {
   "attachments": {},
   "cell_type": "markdown",
   "id": "f5f4cee1",
   "metadata": {},
   "source": [
    "### Business Question 2: Mini-report and visualisation:"
   ]
  },
  {
   "attachments": {},
   "cell_type": "markdown",
   "id": "d908526d",
   "metadata": {},
   "source": [
    "Tobacco is one of the growing business fields in the UK, with high growth potential and a convenient climate However, the operations of tobacco experience apparent seasonal variations. So, stakeholders tend to understand when to start a tobacco company or which companies to invest in. This analysis aims to bring clarity to seasonal changes in tobacco operations to demonstrate their corresponding potential.\n",
    "\n",
    "Based on the results of the analysis, the average longevities of tobacco companies change corresponding to the month they were launched. Figure 1 shows that companies launched in the initial period of the year have relatively higher average longevity. Summertime – June (7.24 years), July (7.41 years), and August (6.34 years) - particularly is found to be very undesirable for tobacco companies to start. February (9.39 years), March (9.16 years), and May (8.55 years) along with December (8.63 years) are the most promising months to aim for a high-longevity tobacco business.\n",
    "\n",
    "Despite low average longevity, June (800), July (828), and August (778) are the months in which the highest number of tobacco firms are created.  On contrary, the beginning and end of the year are characterized by a lower frequency of tobacco firm launches. December and January have 466 and 547 companies created, respectively. Nearly an opposite trend can be observed with the number of companies that ceased. This signals that short-term tobacco companies are usually created in the summertime (Figure 2)\n",
    "\n",
    "In conclusion, entrepreneurs and investors seeking long-term tobacco operations are recommended to look for non-summertime created companies, whereas summertime is for the people aiming for short-term firms.\n",
    "\n",
    "WORD COUNT: 260"
   ]
  },
  {
   "cell_type": "code",
   "execution_count": 29,
   "id": "1094910b",
   "metadata": {},
   "outputs": [
    {
     "data": {
      "image/png": "[encoded data removed]",
      "text/plain": [
       "<Figure size 720x432 with 1 Axes>"
      ]
     },
     "metadata": {
      "needs_background": "light"
     },
     "output_type": "display_data"
    }
   ],
   "source": [
    "# Create a figure and ax plots\n",
    "fig, ax = plt.subplots(figsize = (10,6))\n",
    "\n",
    "# Set months variable into indices of grouped dataframe\n",
    "months = tobacco_companies_by_month_df.index\n",
    "\n",
    "# Set months variable into values of grouped dataframe\n",
    "average_longevity_values = tobacco_companies_by_month_df.values\n",
    "\n",
    "# Create a list of month labels \n",
    "months_labels = ['Jan','Feb','Mar','Apr','May','Jun','Jul','Aug','Sep','Oct','Nov','Dec']\n",
    "\n",
    "# Plot bars of average longevity values per cretion month\n",
    "plt.bar(months, average_longevity_values, color='powderblue')\n",
    "\n",
    "# Plot a line of average longevity values per cretion month: line is drawn to visualize the trend more easily\n",
    "plt.plot(months , average_longevity_values , linewidth=2.8 , color = 'darkcyan')\n",
    "\n",
    "# Set title to the figure\n",
    "ax.set_title(\"Figure 1: Average Longevity of Tobacco Companies per Creation Month\\n\", fontsize=14)\n",
    "\n",
    "# Set label to x axis\n",
    "ax.set_xlabel(\"Months\")\n",
    "\n",
    "# Set label to y axis\n",
    "ax.set_ylabel(\"Average longevity\")\n",
    "\n",
    "# Put grids on the figure\n",
    "plt.grid(axis='y')\n",
    "\n",
    "# Limit y axis values from 3 to 10 for better visuality\n",
    "ax.set_ylim([3,10])\n",
    "\n",
    "# Set x labels into month labels\n",
    "ax.set_xticklabels(months_labels)\n",
    "\n",
    "# Display the figure\n",
    "plt.show()"
   ]
  },
  {
   "cell_type": "code",
   "execution_count": 30,
   "id": "ef42c752",
   "metadata": {},
   "outputs": [
    {
     "data": {
      "image/png": "[encoded data removed]",
      "text/plain": [
       "<Figure size 720x432 with 1 Axes>"
      ]
     },
     "metadata": {
      "needs_background": "light"
     },
     "output_type": "display_data"
    }
   ],
   "source": [
    "# Create a variable stroging frequencies of companies created\n",
    "creation_count = tobacco_companies_creation_count_df.values\n",
    "\n",
    "# Create a variable stroging frequencies of companies ceased\n",
    "cessation_count = tobacco_companies_cessation_count_df.values\n",
    "\n",
    "# Draw the plot\n",
    "# Create a figure and ax plots\n",
    "fig, ax = plt.subplots(figsize = (10,6))\n",
    "\n",
    "# Set months variable into indices of grouped dataframe\n",
    "months = tobacco_companies_by_month_df.index\n",
    "\n",
    "# Set months variable into values of grouped dataframe\n",
    "average_longevity_values = tobacco_companies_by_month_df.values\n",
    "\n",
    "# Create a list of month labels \n",
    "months_labels = ['Jan','Feb','Mar','Apr','May','Jun','Jul','Aug','Sep','Oct','Nov','Dec']\n",
    "\n",
    "# Plot a line of average longevity values per cretion month\n",
    "plt.plot(months , creation_count , linewidth=2.8 , color = 'darkcyan', label='Companies created', marker='o')\n",
    "\n",
    "# Plot a line of average longevity values per cretion month\n",
    "plt.plot(months , cessation_count , linewidth=2.8 , color = 'olive', label='Companies ceased', marker='o')\n",
    "\n",
    "# Set title to the figure\n",
    "ax.set_title(\"Figure 2: Count of Tobacco Companies Created and Ceased per Month\\n\", fontsize=14)\n",
    "\n",
    "# Set label to x axis\n",
    "ax.set_xlabel(\"Months\")\n",
    "\n",
    "# Set label to y axis\n",
    "ax.set_ylabel(\"Quantity\")\n",
    "\n",
    "# Put grids on the figure\n",
    "plt.grid(axis='both')\n",
    "\n",
    "# Set x labels into month labels\n",
    "ax.set_xticklabels(months_labels)\n",
    "\n",
    "# Put legend\n",
    "plt.legend(loc='upper left')\n",
    "\n",
    "# Limit y axis values from 0 to 900 for better visuality \n",
    "plt.ylim([0,900])\n",
    "\n",
    "# Display the figure\n",
    "plt.show()"
   ]
  }
 ],
 "metadata": {
  "kernelspec": {
   "display_name": "Python 3 (ipykernel)",
   "language": "python",
   "name": "python3"
  },
  "language_info": {
   "codemirror_mode": {
    "name": "ipython",
    "version": 3
   },
   "file_extension": ".py",
   "mimetype": "text/x-python",
   "name": "python",
   "nbconvert_exporter": "python",
   "pygments_lexer": "ipython3",
   "version": "3.11.3"
  }
 },
 "nbformat": 4,
 "nbformat_minor": 5
}

{
 "cells": [
  {
   "cell_type": "code",
   "execution_count": 1,
   "id": "8ad22cd8",
   "metadata": {},
   "outputs": [],
   "source": [
    "# Import necessary libraries for this project\n",
    "import pandas as pd\n",
    "import numpy as np\n",
    "import requests as rq\n",
    "import json, math, time, os\n",
    "import datetime as dt\n",
    "import warnings\n",
    "import matplotlib.pyplot as plt\n",
    "import seaborn as sns\n",
    "warnings.filterwarnings('ignore')"
   ]
  },
  {
   "cell_type": "code",
   "execution_count": 2,
   "id": "b24fd15d",
   "metadata": {},
   "outputs": [],
   "source": [
    "# Create a class that calls the API\n",
    "class api_caller:\n",
    "    \n",
    "    # Root url for Companies House database\n",
    "    root_url = 'https://api.companieshouse.gov.uk/'\n",
    "    \n",
    "    # API key\n",
    "    key = '151b89aa-44c2-4cf6-8002-53b2b46b0e7a'\n",
    "    \n",
    "    # Create a function that returns the dataframe of the companies found for the selected url\n",
    "    def return_dataframe(self,url_extention):\n",
    "        \n",
    "        # Create a url variable that combines the selected url to root url\n",
    "        url = self.root_url + url_extention\n",
    "        \n",
    "        # Request a response from the url with the API key\n",
    "        query_result = rq.get(url, auth=(self.key,''))\n",
    "        \n",
    "        # Check if the response of the request is successfull (which is denoted with code 200)\n",
    "        if query_result.status_code == 200:\n",
    "            \n",
    "            # Create a json file by decoding the response\n",
    "            json_file = json.JSONDecoder().decode(query_result.text)\n",
    "            \n",
    "            # Create a variable that stores only items from the json file\n",
    "            items_file = json_file['items']\n",
    "            \n",
    "            # Create a variable that stores the keys from the items file\n",
    "            keys = items_file[0].keys()\n",
    "\n",
    "            # Create the dataframe with companies as data and keys as columns\n",
    "            companies_df = pd.DataFrame(items_file,columns = keys)\n",
    "            \n",
    "            # Return the created dataframe\n",
    "            return companies_df\n",
    "        \n",
    "        else: # if the response code is not 200, return none (non-200 code, either 400 or 405, means either the request is not\n",
    "              # correctly asked or there is not such a url. This is helpful on tackling the error when my upcoming return_companies\n",
    "              # function goes into further pages to quest companies where there is no longer any companies listed)\n",
    "            return None"
   ]
  },
  {
   "cell_type": "code",
   "execution_count": 5,
   "id": "fc5c6739",
   "metadata": {},
   "outputs": [],
   "source": [
    "# Get the datasets foldewr\n",
    "cwd = os.getcwd() # current directory\n",
    "p_cwd = os.path.abspath(os.path.join(cwd, os.pardir)) # parent of the current directory\n",
    "\n",
    "# Create a link to SIC Codes list file uploaded to GitHub\n",
    "url_sic_codes = os.path.join(p_cwd, \"datasets/sic_codes_list.csv\")\n",
    "# Create a dataframe storing SIC Codes of companies\n",
    "sic_codes_df = pd.read_csv(url_sic_codes)"
   ]
  },
  {
   "cell_type": "code",
   "execution_count": 6,
   "id": "fc84e380",
   "metadata": {},
   "outputs": [],
   "source": [
    "# Create a function that returns the companies based on one single SIC code \n",
    "# and the number of expected companies\n",
    "def return_companies_on_sic_code(sic_code, number_of_companies):\n",
    "    \n",
    "    # Round up number of pages\n",
    "    number_of_pages = math.ceil(number_of_companies / 20)\n",
    "    \n",
    "    # Create an empty dataframe as a general dataframe to store further companies\n",
    "    companies_data = pd.DataFrame()\n",
    "    \n",
    "    # Iterate through the pages\n",
    "    for page_index in range(0, number_of_pages):\n",
    "        \n",
    "        # Create the url extention that checks for sic_code based on 20 companies per page and page starting \n",
    "        # index of the last companies in the previous page\n",
    "        url = f\"advanced-search/companies?sic_codes={sic_code}&items_per_page=20&start_index={page_index*20}\"\n",
    "        \n",
    "        # Store the companies collected in one particular page\n",
    "        page_data = api_caller().return_dataframe(url)\n",
    "        \n",
    "        # Add the one-page collected companies dataframe to the general dataframe\n",
    "        companies_data = pd.concat((companies_data,page_data),axis=0)\n",
    "        \n",
    "        # Sleeps for 0.4 seconds not to crash into time errors\n",
    "        time.sleep(0.4)\n",
    "    \n",
    "    # Return the general dataframe\n",
    "    return companies_data.reset_index(drop=True)\n",
    "\n",
    "\n",
    "###########################################################################################################################\n",
    "\n",
    "\n",
    "# Create a function that returns the companies based on multiple single SIC codes \n",
    "# and the number of expected companies\n",
    "def return_companies_on_multiple_sic_codes(sic_codes_list, number_of_companies):\n",
    "    \n",
    "    # Create an empty dataframe as a general dataframe to store further companies\n",
    "    companies_data = pd.DataFrame()\n",
    "    \n",
    "    # Iterate through the input sic codes\n",
    "    for sic_code in sic_codes_list:\n",
    "        \n",
    "        # Use the previously created one-sic-code-based companies returning function to return multiple-pages companies\n",
    "        # each sic code\n",
    "        companies_data_for_sic_code = return_companies_on_sic_code(sic_code, number_of_companies)\n",
    "        \n",
    "        # Add the companies for one sic code to general dataframe\n",
    "        companies_data = pd.concat((companies_data,companies_data_for_sic_code),axis=0)\n",
    "        \n",
    "        # Sleeps for 0.4 seconds not to crash into time errors\n",
    "        time.sleep(0.4)\n",
    "    \n",
    "    # Return the general dataframe\n",
    "    return companies_data.reset_index(drop=True)"
   ]
  },
  {
   "cell_type": "code",
   "execution_count": 7,
   "id": "a06d9d0e",
   "metadata": {},
   "outputs": [],
   "source": [
    "# Create a function that returns the list of SIC Codes based on the selected keywords for industry names \n",
    "def words_dependent_sic_codes(search_words_list):\n",
    "    \n",
    "    # Create an empty list to store further SIC Codes\n",
    "    sic_codes = []\n",
    "    \n",
    "    # Iterate throught all industry names in SIC Codes dataframe\n",
    "    for industry in sic_codes_df['Description']:\n",
    "        \n",
    "        # Iterate through each search_word and removable_word\n",
    "        for search_word in search_words_list:\n",
    "            \n",
    "            # Check if the search word is in industry name\n",
    "            if search_word in industry.lower():\n",
    "\n",
    "                # Create a dataframe condition to call specific industry\n",
    "                condition = (sic_codes_df['Description'] == industry)\n",
    "\n",
    "                # Store the SIC Code of that specific industry\n",
    "                sic_code = sic_codes_df[condition]['SIC Code'].values\n",
    "\n",
    "                # Convert the stores SIC Code into integer\n",
    "                sic_code_int = int(sic_code)\n",
    "\n",
    "                # Add the integer SIC Code into SIC Codes list\n",
    "                sic_codes.append(sic_code_int)\n",
    "                \n",
    "    # Remove the duplicated SIC Codes by converting list into set and back to list            \n",
    "    sic_codes = list(set(sic_codes))\n",
    "    \n",
    "    # Return the SIC Codes list\n",
    "    return sic_codes"
   ]
  },
  {
   "cell_type": "code",
   "execution_count": 8,
   "id": "519efbdf",
   "metadata": {},
   "outputs": [],
   "source": [
    "# Create a class that filteres the dataframe\n",
    "class filtering():\n",
    "    \n",
    "    # Ask for dataframe as an initializer\n",
    "    def __init__(self,dataframe):\n",
    "        \n",
    "        self.dataframe = dataframe\n",
    "    \n",
    "    # Define a class function that filters the datarame\n",
    "    def filter_by(self, filtered_value, column):\n",
    "        \n",
    "        # Set a condition of filter\n",
    "        condition  = (self.dataframe[column] == filtered_value)\n",
    "        \n",
    "        # Create a filtered dataframe\n",
    "        filtered_df = self.dataframe[condition]\n",
    "        \n",
    "        # Return the filtered dataframe\n",
    "        return filtered_df\n",
    "    \n",
    "    # Define a class function that unfilters the datarame\n",
    "    def unfilter_by(self, filtered_value, column):\n",
    "        \n",
    "        # Set a condition of filter\n",
    "        condition  = (self.dataframe[column] == filtered_value)\n",
    "        \n",
    "        # Get the indices of condition values\n",
    "        indices = self.dataframe[condition].index\n",
    "        \n",
    "        # Drop thee candidate values\n",
    "        unfiltered_df = self.dataframe.drop(indices, axis=0)\n",
    "        \n",
    "        # Return the unfiltered dataframe\n",
    "        return unfiltered_df"
   ]
  },
  {
   "attachments": {},
   "cell_type": "markdown",
   "id": "4180115e",
   "metadata": {},
   "source": [
    "# Business Question 1: Which cities in UK has the highest potential for technology-related activities besides London?"
   ]
  },
  {
   "cell_type": "code",
   "execution_count": 9,
   "id": "7c9a234e",
   "metadata": {
    "deletable": false,
    "nbgrader": {
     "cell_type": "code",
     "checksum": "9a6e3a6a854c5207e8fcb66335471a5d",
     "grade": true,
     "grade_id": "cell-b5b5ea7c8326b1d9",
     "locked": false,
     "points": 100,
     "schema_version": 3,
     "solution": true,
     "task": false
    }
   },
   "outputs": [],
   "source": [
    "# Create a list of words to look through in industry name\n",
    "tech_words = ['technology','engineering','software','hardware']\n",
    "\n",
    "# Create a variable that stores the selected SIC Codes\n",
    "tech_sic_codes = words_dependent_sic_codes(tech_words)"
   ]
  },
  {
   "cell_type": "code",
   "execution_count": 10,
   "id": "17d4319c",
   "metadata": {},
   "outputs": [],
   "source": [
    "# Call the data from Companies Houses: requesting 1000 companies per SIC Code\n",
    "tech_companies_df = return_companies_on_multiple_sic_codes(tech_sic_codes, 100)"
   ]
  },
  {
   "cell_type": "code",
   "execution_count": null,
   "id": "f9308860",
   "metadata": {},
   "outputs": [],
   "source": [
    "# Drop duplicates for columns 'company_name' which is a unique identifier for the companies\n",
    "tech_companies_df.drop_duplicates(subset=['company_name'], inplace=True)"
   ]
  },
  {
   "cell_type": "code",
   "execution_count": null,
   "id": "473a9efe",
   "metadata": {},
   "outputs": [],
   "source": [
    "# Create a list of columns that are not suitable for analysis\n",
    "unnecessary_columns = ['kind','links']\n",
    "\n",
    "# Drop the candidate columns\n",
    "tech_companies_df.drop(columns=unnecessary_columns, inplace=True)"
   ]
  },
  {
   "cell_type": "code",
   "execution_count": null,
   "id": "316ecf83",
   "metadata": {},
   "outputs": [],
   "source": [
    "# Create a 'locality' and 'postal_code' columns out of 'registered_office_address', which is a dictionary in a dataframe\n",
    "columns_to_be_splitted = ['locality','postal_code']\n",
    "\n",
    "# Define a function that splits the given column\n",
    "def cell_dict_splitter(key, column, dataframe):\n",
    "\n",
    "    dataframe[key] = dataframe[column].str[key]\n",
    "\n",
    "# Iterate through the candidate columnss\n",
    "for key in columns_to_be_splitted:\n",
    "    \n",
    "    # Split the candidate columns\n",
    "    cell_dict_splitter(key,'registered_office_address',tech_companies_df)\n",
    "    \n",
    "# Drop 'registered_office_address' column given it has already been processed\n",
    "tech_companies_df.drop(columns=['registered_office_address'], inplace=True)"
   ]
  },
  {
   "cell_type": "code",
   "execution_count": null,
   "id": "c231c260",
   "metadata": {},
   "outputs": [],
   "source": [
    "# Drop null values from 'locality' columns given that some companies do not have registered locality\n",
    "tech_companies_df.dropna(subset=['locality'], inplace=True)"
   ]
  },
  {
   "cell_type": "code",
   "execution_count": null,
   "id": "b82927d6",
   "metadata": {},
   "outputs": [],
   "source": [
    "# Filter the companies which are not located in London: cities they are located are going to be called 'Non-Capital cities'\n",
    "non_london_tech_companies_df = filtering(tech_companies_df).unfilter_by('London','locality')"
   ]
  },
  {
   "cell_type": "code",
   "execution_count": null,
   "id": "fe7c8884",
   "metadata": {},
   "outputs": [],
   "source": [
    "# Group the companies by their locality and count the frequency\n",
    "tech_company_counts = non_london_tech_companies_df.groupby('locality').count()['company_name'].sort_values(ascending=False)"
   ]
  },
  {
   "cell_type": "code",
   "execution_count": null,
   "id": "8ca83560",
   "metadata": {},
   "outputs": [],
   "source": [
    "# Create a list of cities who are in TOP10 regarding the count of tech companies\n",
    "top_10_cities = tech_company_counts[:10].index\n",
    "\n",
    "# Create a variable that stores the counts of the companies for the selected TOP10 cities\n",
    "top_10_values = tech_company_counts[:10]\n",
    "\n",
    "# Create a crosstab that groups the data by their locality and company status: active, dissolved, administration, and liqiudation \n",
    "locality_status_crosstab = pd.crosstab(non_london_tech_companies_df.locality,non_london_tech_companies_df.company_status).sort_values(by='dissolved',ascending=False)\n",
    "\n",
    "# Define a function that returns the counts of companies for TOP10 cities by their statusa\n",
    "def return_values_by_status(status):\n",
    "    \n",
    "    # Create a list to store further values\n",
    "    values = []\n",
    "    \n",
    "    # Iterate through city in top 10 cities\n",
    "    for city in top_10_cities:\n",
    "        \n",
    "        # Create a variable that stores value\n",
    "        value = locality_status_crosstab[status][city]\n",
    "        \n",
    "        # Add value to the list\n",
    "        values.append(value)\n",
    "    \n",
    "    # Return values\n",
    "    return values\n",
    "\n",
    "# Gather the values for active companies\n",
    "active_values = np.array(return_values_by_status('active'))\n",
    "\n",
    "# Gather the values for dissolved companies\n",
    "dissolved_values = np.array(return_values_by_status('dissolved'))\n",
    "\n",
    "# Gather the values for administration companies\n",
    "administration_values = np.array(return_values_by_status('administration'))\n",
    "\n",
    "# Gather the values for liquidation companies\n",
    "liquidation_values = np.array(return_values_by_status('liquidation'))"
   ]
  },
  {
   "attachments": {},
   "cell_type": "markdown",
   "id": "027592ea",
   "metadata": {},
   "source": [
    "### Business Question 1: Mini-report and visualisation:"
   ]
  },
  {
   "attachments": {},
   "cell_type": "markdown",
   "id": "bd85aac5",
   "metadata": {},
   "source": [
    "The UK is one of the technologically leading countries in the globe, with recent tech advancements and adaptations. However, most of the operations and advancements are heavily concentrated in its capital city, London. Though this makes London full of growth opportunities for technology-driven people, it also comes up with its harsh competition. This analysis aims to analyze the technological opportunities outside of London for, especially, conservative people who desire to initiate a tech firm but do not want to be in constant tough competition. Additionally, this analysis may be helpful for people who seek technological employment in a less competitive environment.\n",
    "\n",
    "According to the results of the analysis, Manchester, Birmingham, and Bristol are the main non-capital cities with tech firms. They, respectively, capture 19.1%, 14.0%, and 10.6% of the total distribution of tech companies for non-capital cities. They are followed by Cambridge (10.6%), Nottingham (8.9%), and Cardiff (8.0%). Leeds, Coventry, Reading, and Sheffield are the other cities that made it to TOP10 (Figure 1).\n",
    "\n",
    "Regarding active tech companies, Birmingham leads the way with above 120 companies, passing Manchester and Cambridge, both of which have nearly 100 active tech firms. While not huge variations are experienced with the rest of the cities, Coventry is found to have the lowest number of active firms (Figure 2).\n",
    "\n",
    "Overall, Manchester, Birmingham, Bristol, and Cambridge are the main recommended cities for people who quest a non-aggressive tech firm launch or less-competitive tech job.\n",
    "\n",
    "WORD COUNT: 238"
   ]
  },
  {
   "cell_type": "code",
   "execution_count": 17,
   "id": "f2922d94",
   "metadata": {},
   "outputs": [
    {
     "data": {
      "image/png": "[encoded data removed]",
      "text/plain": [
       "<Figure size 720x432 with 1 Axes>"
      ]
     },
     "metadata": {},
     "output_type": "display_data"
    }
   ],
   "source": [
    "# Create a figure and ax plots\n",
    "fig, ax = plt.subplots(figsize = (10,6))\n",
    "\n",
    "# Give a title to the figure\n",
    "plt.title(\"Figure 1: Proportion of Tech Companies in TOP10 Non-Capital Cities of UK\\n\", fontsize=14)\n",
    "\n",
    "# Create a pie chart for TOP10 cities given the proportion of tech companies they have\n",
    "ax.pie(top_10_values, autopct='%1.1f%%',pctdistance =1.15, \n",
    "       textprops={'fontsize': 10}, \n",
    "       wedgeprops = {'linewidth' : 3, 'edgecolor' : 'white'})\n",
    "\n",
    "# Create an inner circle to convert the pie chart to donut chart\n",
    "fig.gca().add_artist(plt.Circle((0, 0), 0.72, fc='white'))\n",
    "\n",
    "# Put the legend on the figure\n",
    "ax.legend(bbox_to_anchor=(2, 0.9),fontsize=12, labels=top_10_cities)\n",
    "\n",
    "# Save the figure in a folder in the current working directory\n",
    "cwd = os.getcwd()\n",
    "folder = os.path.join(cwd, 'figures')\n",
    "os.makedirs(folder, exist_ok=True)\n",
    "plt.savefig(os.path.join(folder,'Figure 1: Proportion of Tech Companies in TOP10 Non-Capital Cities of UK'), format='jpg')\n",
    "\n",
    "# Display the figure\n",
    "fig.show()"
   ]
  },
  {
   "cell_type": "code",
   "execution_count": 18,
   "id": "3c0cf862",
   "metadata": {},
   "outputs": [
    {
     "data": {
      "image/png": "[encoded data removed]",
      "text/plain": [
       "<Figure size 720x432 with 1 Axes>"
      ]
     },
     "metadata": {
      "needs_background": "light"
     },
     "output_type": "display_data"
    }
   ],
   "source": [
    "# Define colors for the bars\n",
    "colors = ['darkturquoise',\n",
    "'slategrey',\n",
    "'silver',\n",
    "'lightgrey']\n",
    "\n",
    "# Create a figure and ax plots\n",
    "fig, ax = plt.subplots(figsize = (10,6))\n",
    "\n",
    "# Plot the stacked bar for active companies counts\n",
    "plt.bar(top_10_cities, active_values, color=colors[0])\n",
    "\n",
    "# Plot the stacked bar for dissolved companies counts\n",
    "plt.bar(top_10_cities, dissolved_values, bottom=active_values, color=colors[1])\n",
    "\n",
    "# Plot the stacked bar for administration companies counts\n",
    "plt.bar(top_10_cities, administration_values, bottom=active_values+dissolved_values, color=colors[2])\n",
    "\n",
    "# Plot the stacked bar for liquidation companies counts\n",
    "plt.bar(top_10_cities, liquidation_values, bottom=active_values+dissolved_values+administration_values, color=colors[3])\n",
    "\n",
    "# Rotate the x labels on 90 degrees\n",
    "plt.xticks(rotation=90)\n",
    "\n",
    "# Label the x axis\n",
    "plt.xlabel(\"City\")\n",
    "\n",
    "# Label the y axis\n",
    "plt.ylabel(\"Quantity\")\n",
    "\n",
    "# Label the legend items\n",
    "plt.legend([\"Active companies\", \"Dissolved companies\",\"Administration companies\",\"Liquidation companies\"])\n",
    "\n",
    "# Title the figure\n",
    "plt.title(\"Figure 2: Tech Companies in TOP 10 Non-Capital Cities of UK per Company Status\\n\", fontsize=14)\n",
    "\n",
    "# Save the figure in a folder in the current working directory\n",
    "os.makedirs(folder, exist_ok=True)\n",
    "plt.savefig(os.path.join(folder,'Figure 1: Proportion of Tech Companies in TOP10 Non-Capital Cities of UK'), format='jpg')\n",
    "\n",
    "# Display the chart\n",
    "plt.show()"
   ]
  }
 ],
 "metadata": {
  "kernelspec": {
   "display_name": "Python 3 (ipykernel)",
   "language": "python",
   "name": "python3"
  },
  "language_info": {
   "codemirror_mode": {
    "name": "ipython",
    "version": 3
   },
   "file_extension": ".py",
   "mimetype": "text/x-python",
   "name": "python",
   "nbconvert_exporter": "python",
   "pygments_lexer": "ipython3",
   "version": "3.11.3"
  }
 },
 "nbformat": 4,
 "nbformat_minor": 5
}
